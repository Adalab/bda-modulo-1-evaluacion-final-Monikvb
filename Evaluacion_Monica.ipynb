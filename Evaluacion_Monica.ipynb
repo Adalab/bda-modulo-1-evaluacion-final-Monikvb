{
 "cells": [
  {
   "cell_type": "markdown",
   "metadata": {},
   "source": [
    "# Ejercicios de Evelucaion Modulo #1"
   ]
  },
  {
   "cell_type": "markdown",
   "metadata": {},
   "source": [
    "* A lo largo de esta evaluación tendrás que crear una clase llamada **`TiendaOnline`** que\n",
    "cumpla los siguientes requisitos:\n",
    "\n",
    "    * La clase **`TiendaOnline`** debe tener los siguientes atributos:\n",
    "\n",
    "        1. **`inventario`** (lista de diccionarios): Un atributo para almacenar los productos en el inventario. Cada producto debe ser representado como un diccionario con las siguientes claves: `'nombre', 'precio', y 'cantidad'`. Al principio deberá ser una lista vacía. Ejemplo de como debería ser:\n",
    "        \n",
    "            ```python \n",
    "            [{'nombre': 'Camisa', 'precio': 20, 'cantidad': 40},\n",
    "            {'nombre': 'Pantalón', 'precio': 30, 'cantidad': 30}]\n",
    "            ```\n",
    "\n",
    "        2. **`clientes`** (diccionario): Un atributo para llevar un registro de los clientes de la tienda. Cada cliente debe ser representado como un diccionario con las siguientes claves: `'nombre' y 'email'`. Al inicio deberá ser un diccionario vacío. Además, cada cliente debe tener un historial de compras. Deberá parecerse a:\n",
    "\n",
    "            ```python\n",
    "            {'Cliente1': {'email': 'cliente1@email.com', 'compras': []},\n",
    "            'Cliente2': {'email': 'cliente2@email.com', 'compras': []}}\n",
    "            ```\n",
    "\n",
    "        3. **`ventas_totales`** (float): Un atributo para llevar un registro de las ventas totales de la tienda. Inicializalo con valor 0.\n",
    "\n",
    "    * La clase **`TiendaOnline`** debe tener los siguientes métodos:\n",
    "\n",
    "        1. **`agregar_producto(self, nombre, precio, cantidad)`**: Este método agrega un producto al inventario o actualiza su cantidad si ya existe. Debe recibir el nombre, precio y cantidad del producto como parámetros.\n",
    "\n",
    "            - Itera a través del inventario y compara los nombres de los productos con el nombre proporcionado.\n",
    "            - Si el producto ya existe, actualiza la cantidad.\n",
    "            - Si no existe, agrega un nuevo producto al inventario.\n",
    "\n",
    "        2. **`ver_inventario(self)`**: Muestra el inventario de productos con sus detalles.\n",
    "        \n",
    "            - Utiliza un bucle **`for`** para recorrer el inventario.\n",
    "            - Imprime los detalles (nombre, precio, cantidad) de cada producto.\n",
    "            - Debería verse:\n",
    "            \n",
    "                ```python\n",
    "                Nombre: Camisa, Precio: $20, Cantidad: 50\n",
    "                Nombre: Pantalón, Precio: $30, Cantidad: 30\n",
    "                Nombre: Zapatos, Precio: $50, Cantidad: 40\n",
    "                Nombre: Camisa, Precio: $20, Cantidad: 50\n",
    "                ```\n",
    "\n",
    "        3. **`buscar_producto(self, nombre)`**: Busca un producto en el inventario por\n",
    "        nombre y muestra sus detalles si se encuentra. Debe recibir el nombre del producto como parámetro.\n",
    "        \n",
    "            - Utiliza un bucle **`for`** para recorrer el inventario.\n",
    "            - Compara los nombres de los productos con el nombre proporcionado.\n",
    "            - Si se encuentra el producto, imprime sus detalles.\n",
    "            - Debe mostrar:\n",
    "\n",
    "                ```pyhton\n",
    "                Nombre: Camisa, Precio: $20, Cantidad: 40\n",
    "                ```\n",
    "\n",
    "        4. **`actualizar_stock(self, nombre, cantidad)`**: Actualiza el stock de un producto en el inventario. Debe recibir el nombre del producto y la cantidad a agregar o quitar como parámetros.\n",
    "        \n",
    "            - Utiliza un bucle **`for`** para recorrer el inventario.\n",
    "            - Busca el producto por nombre.\n",
    "            - Actualiza la cantidad según la entrada del usuario.\n",
    "            - Si el producto no esta en el inventario muestra un mensaje indicándolo.\n",
    "\n",
    "        5. **`eliminar_producto(self, nombre)`**: Elimina un producto del inventario por nombre. Debe recibir el nombre del producto como parámetro.\n",
    "        \n",
    "            - Utiliza un bucle **`for`** para recorrer el inventario.\n",
    "            - Busca el producto por nombre.\n",
    "            - Elimina el producto del inventario si existe.\n",
    "            - Si el producto no esta en el inventario muestra un mensaje indicándolo.\n",
    "\n",
    "        6.  **`calcular_valor_inventario(self)`**: Calcula y muestra el valor total del inventario.\n",
    "\n",
    "            - Utiliza un bucle **`for`** para calcular el valor total del inventario.\n",
    "            - Itera a través del inventario y suma el valor de cada producto (precio x cantidad). Es decir, calcula el valor total del  inventario. Ejemplo:\n",
    "\n",
    "                ```python\n",
    "                # si tenemos 5 camisas que valen 5 euros\n",
    "                # y 10 calcetines que valen 1 euro\n",
    "                # este método te tiene que devolver: 35 euros\n",
    "                valor_camisas = 5 * 5\n",
    "                valor_calcetines = 10 * 1\n",
    "                valor_camisas + valor_calcetines = 35\n",
    "                ```\n",
    "                \n",
    "        7. **`buscar_producto_regex(self, patron)`**: Busca productos en el inventario que coincidan con un patrón de búsqueda en formato regex en el nombre y muestra los resultados. Debe recibir el patrón como parámetro.\n",
    "\n",
    "            - Utiliza un bucle **`for`** para recorrer el inventario.\n",
    "            - Utiliza la función más apropiada para buscar coincidencias con el patrón de expresión regular.\n",
    "            - Agrega los productos encontrados a una lista y luego imprime sus detalles.\n",
    "\n",
    "        8. **`realizar_compra(self)`**: Permite a un cliente realizar una compra seleccionando productos del inventario. Debe interactuar con el cliente para seleccionar productos y calcular el costo total de la compra.\n",
    "\n",
    "            - Utiliza un bucle **`while`** para permitir al cliente realizar múltiples compras.\n",
    "            - Muestra el inventario y solicita al cliente ingresar el nombre del producto que desea comprar.\n",
    "            - Registra los productos seleccionados en un carrito y actualiza el inventario.\n",
    "            - Calcula el costo total de la compra.\n",
    "        \n",
    "        9. **`procesar_pago(self)`**: Procesa el pago de una compra, calcula el cambio y muestra un mensaje de confirmación.\n",
    "\n",
    "            - Utiliza un bloque **`try...except`** para manejar excepciones.\n",
    "            - Solicita al cliente ingresar la cantidad total y la cantidad de pago usando un input.\n",
    "            - Calcula el cambio y muestra un mensaje de pago exitoso o un error en caso de monto insuficiente.\n",
    "\n",
    "        10. **`agregar_cliente(self, nombre, email)`**: Agrega un nuevo cliente al registro de clientes. Debe recibir el nombre y el correo electrónico del cliente como parámetros.\n",
    "        \n",
    "            - Agrega un cliente al diccionario de clientes con su nombre y correo electrónico.\n",
    "\n",
    "        11. **`ver_clientes(self)`**: Muestra la lista de clientes registrados con sus nombres y correos electrónicos.\n",
    "        \n",
    "            - Utiliza un bucle **`for`** para recorrer la base de datos de clientes.\n",
    "            - Imprime los detalles de cada cliente (nombre y correo electrónico).\n",
    "        \n",
    "        12. **`registrar_compra(self, nombre_cliente, carrito)`**: Registra una compra para un cliente, actualiza las ventas totales y agrega la compra al historial del cliente. Debe recibir el nombre del cliente y el carrito de compras como parámetros.\n",
    "\n",
    "            - Busca al cliente en el diccionario de clientes.\n",
    "            - Si el cliente no esta en el diccionario de clientes, muestra que no se puede realizar la acción por que el cliente no está en el diccionario.\n",
    "            - Calcula el total de la compra y registra la compra, incluyendo los productos y el total.\n",
    "            - Ejemplo:\n",
    "            \n",
    "                ```python\n",
    "                carrito_cliente1 = {\"Camisa\": {\"precio\": 20,\n",
    "                \"cantidad\": 3}}\n",
    "                tienda.registrar_compra(\"Cliente1\", carrito_cliente1)\n",
    "                ```\n",
    "        \n",
    "        13. **`ver_compras_cliente(self, nombre_cliente)`**: Muestra el historial de compras de un cliente. Debe recibir el nombre del cliente como parámetro.\n",
    "\n",
    "            - Busca al cliente en el diccionario de clientes.\n",
    "            - Muestra las compras realizadas por el cliente, incluyendo detalles de productos y totales.\n",
    "        \n",
    "        14. **`calcular_ventas_totales(self)`**: Muestra las ventas totales de la tienda.\n",
    "        \n",
    "            - Suma los totales de todas las compras realizadas y muestra el total de ventas totales en la tienda.\n",
    "        \n",
    "    * Instrucciones Adicionales:\n",
    "        - Debes crear instancias de la clase  **`TiendaOnline`** y probar cada uno de los métodos para demostrar que funcionan correctamente."
   ]
  },
  {
   "cell_type": "code",
   "execution_count": 97,
   "metadata": {},
   "outputs": [],
   "source": [
    "import re # Importa la libreria - Esto es para que funcione el todo try/except\n",
    "\n",
    "class TiendaOnline: \n",
    "    \n",
    "    \n",
    "    def __init__(self):\n",
    "        \n",
    "        self.inventario = [] # debe tener dentro nombre, precio y cantidad, tipo diccionario cada producto\n",
    "        self.clientes = {} # se representa aqui con nombre y email, cada uno en un diccionario\n",
    "        self.ventas_totales = 0 # empieza desde cero float\n",
    "    \n",
    "    \n",
    "    # Metodo 1\n",
    "    def agregar_producto(self, nombre, precio, cantidad):\n",
    "        \n",
    "        for producto in self.inventario: # itetar sobre el inventario, para buscar nombre del producto\n",
    "            if producto['nombre'] == nombre: # si es igual ese producto, solo actualizo la cantidad abajo\n",
    "                producto['cantidad'] += cantidad # sumo la nueva cantidad que tengo a la cantidad de ese producto\n",
    "                return # rompo aqui la iteración, si se cumple, sino se cumple voy agregar el nuevo producto\n",
    "            \n",
    "        nuevo_producto_agregado = {'nombre': nombre, 'precio':precio, 'cantidad':cantidad} # Lo guardo en una variable y agrego los atributos en un diccionarios, ya que cada producto tiene sus detalles\n",
    "        self.inventario.append(nuevo_producto_agregado) # aqui agrego al inventario que hay el nuevo producto con el metodo de append\n",
    "    \n",
    "      \n",
    "    # Metodo 2\n",
    "    def ver_inventario(self): \n",
    "        \n",
    "        for producto in self.inventario: # Recorro producto a producto en todo el inventario\n",
    "            print('Este es el inventario:', producto) # pinto todo lo que hay, llamando a producto con sus atributos.\n",
    "            # si usara solo return, me mostrará solo la primera iteración y no todo lo que hay dentro.\n",
    "     \n",
    "        \n",
    "    # Metodo 3\n",
    "    def buscar_producto(self, nombre):\n",
    "        \n",
    "        for producto in self.inventario: # itetar sobre el inventario, para buscar el nombre del producto\n",
    "            if producto['nombre'] == nombre: # si es igual a ese producto\n",
    "                print('Aqui el producto', producto) # pinto el producto encontrado,  muestra sus atributos\n",
    "    \n",
    "    \n",
    "    # Metodo 4\n",
    "    def actualizar_stock(self, nombre, cantidad):\n",
    "            \n",
    "        for producto in self.inventario: # Itero \n",
    "            if  producto['nombre'] == nombre: # revisa si tienen el mismo producto, si lo tiene se ejecuta lo que viene\n",
    "                producto['cantidad'] += cantidad # suma la candidad a la que ya esta, lo actualiza.\n",
    "                print(f'Actualizado el stock con: {producto}')\n",
    "                return  # termina el ciclo\n",
    "        \n",
    "        print(f'El producto {nombre} no esta en el inventario') # aqui fuera si no esta en producto. \n",
    "\n",
    "\n",
    "    # Metodo 5\n",
    "    def eliminar_producto(self, nombre):\n",
    "        \n",
    "        for producto in self.inventario: # Itero\n",
    "            if  producto['nombre'] == nombre: # revisa si tienen el mismo producto\n",
    "                self.inventario.remove(producto) # elimina el producnto del inventario usando el metodo remove\n",
    "                print(f\"El producto {nombre} ha sido eliminado del inventario.\")\n",
    "                return # termina aqui, rompe\n",
    "                \n",
    "        print(f'El producto {nombre} no esta en el inventario') # aqui fuera si no esta en producto. \n",
    "\n",
    "\n",
    "    # Metodo 6\n",
    "    def calcular_valor_inventario(self):\n",
    "        \n",
    "        total_inventario = 0 # Inicializamos en cero, para que vaya sumandole al inventario\n",
    "        \n",
    "        for producto in self.inventario: # itero sobre cada producto\n",
    "            total_inventario += producto['precio'] * producto['cantidad'] # Aqui le sumo al total cada vez que itere el resultado de la multlipicación.\n",
    "            # ejemplo: Precio de Camisas * la Cantidad que hay.  €20 vale cada camisa * 10 cantidades de camisas\n",
    "        return f'Total del inventario: {total_inventario}'  # aqui muestro el total \n",
    "      \n",
    "        \n",
    "    # Metodo 7 \n",
    "    def buscar_producto_regex(self, patron):\n",
    "        \n",
    "        productos_regex = []  # Guardo las coincidencias aqui\n",
    "        #patron = 'Z\\w+' Se escribe abajo cuando instancio\n",
    "        \n",
    "        for producto in self.inventario: #Itero\n",
    "            patron_coincidencia = re.findall(patron, producto['nombre']) # findall busca en todo lo que tenga del inventario el patron\n",
    "            if patron_coincidencia: # Encontrado - (Siendo sí) que esta ese patron\n",
    "                productos_regex.append(producto) # Se irán agregando a la lista las coincidencias\n",
    "                print('Lista regex:', productos_regex)\n",
    "                return\n",
    "            \n",
    "        print('No esta en el inventario')\n",
    "        \n",
    "        \n",
    "    # Extra de si existe producto.   \n",
    "    def existe_producto(self, nombre):\n",
    "        for producto in self.inventario: # itero\n",
    "            if producto['nombre'] == nombre:\n",
    "                return True\n",
    "        \n",
    "        return False\n",
    "    \n",
    "    # Metodo 8 #\n",
    "    def realizar_compra(self): \n",
    "        \n",
    "        total_compra = 0 # empieza de 0 la compra\n",
    "        compra_carrito = [] # Voy guardando los productos tipo diccionarios\n",
    "        seguir_comprando = \"si\" # empezar el bucle, si dice que no, ya no se ejecutara nada más y dara el total. \n",
    "        \n",
    "        print(f'Este es el inventario: {self.inventario}') # pinto todo lo que tengo de inventario\n",
    "        \n",
    "        while seguir_comprando == \"si\": # mientras el cliente diga que si, seguira, si dice que no, no entra el bucle.\n",
    "            \n",
    "            compra_cliente = input('ingresa el nombre del producto que deseas comprar').lower() # pido al cliente el producto\n",
    "            \n",
    "            if self.existe_producto(compra_cliente):   # ya esta la función arriba de si existe o no el producto.\n",
    "                for producto in self.inventario: # itero\n",
    "                    if producto['nombre'] == compra_cliente: # si el producto con su nombre es igual a lo que pide el cliente\n",
    "                        cantidad_producto = int(input(f'Ingrese la cantidad que deseas comprar')) # pido la cantidad que quiere\n",
    "                        \n",
    "                        if cantidad_producto > producto['cantidad']: # si es mayor lo que pide a lo que tengo en inventario, pinto el print\n",
    "                            print(f\"Lo siento, no hay suficiente '{compra_cliente}' en el inventario. La cantidad disponible es de:{producto['cantidad']}\")\n",
    "                            break # Salgo del bucle si no hay suficiente cantidad \n",
    "                        else:                      \n",
    "                            producto['cantidad'] -= cantidad_producto # si hay, se ejecutara esta parte y hara toda la compra\n",
    "                            compra_carrito.append({'nombre': compra_cliente, 'precio': producto['precio'], 'cantidad': cantidad_producto}) # lo agrego a la lista vacia\n",
    "                            print(f'Llevas en el carro {compra_carrito}') # le digo que lleva comprando\n",
    "                            total_compra += producto['precio'] * cantidad_producto  # guardo el total de la compra\n",
    "                    \n",
    "            else:\n",
    "                print(f'El producto {compra_cliente} no esta en el inventario') # se pinta directamente, cuando no esta el producto\n",
    "\n",
    "            seguir_comprando = input('¿Quieres seguir comprando?, escribelo (si o no)') # aqui esta a la altura del for para que se ejecute cada vez que quiera comprar, haya o no stock\n",
    "            \n",
    "        print(f'Has comprado: {compra_carrito}, y tu compra total es de: {total_compra}€') # Pinto toda la compra del cliente!\n",
    "      \n",
    "        \n",
    "    # Metodo 9\n",
    "    def procesar_pago(self):\n",
    "        \n",
    "        try: # se ejecuta de primero, si hay un error pasa except, aunque tengo una condición dentro si pasa algun error\n",
    "            cantidad_total_de_la_compra = float(input('Introduce el total de la compra'))\n",
    "            cantidad_que_paga_el_cliente = float(input('¿Cuánto pagas?'))\n",
    "            \n",
    "            cambio = cantidad_que_paga_el_cliente - cantidad_total_de_la_compra # hago una resta de duda/pago\n",
    "            print(f'Su pago fue exitoso, su cambio: {cambio}€')\n",
    "        \n",
    "            if cantidad_que_paga_el_cliente < cantidad_total_de_la_compra: # si la cantidad es menos a la duda, error\n",
    "                print('Monto insuficiente')\n",
    "                \n",
    "        except ValueError: # identifica letras en vez de números en este caso, como error \n",
    "            print('Valor no válido')\n",
    "                \n",
    "    \n",
    "    # Metodo 10 \n",
    "    def agregar_cliente(self, nombre, email):\n",
    "        \n",
    "        clientes_actuales = self.clientes.values() # guarda en una lista los valores del diccionario de clientre, que son id,nombre, email,compras\n",
    "        \n",
    "        for cliente in clientes_actuales: # itero sobre los clientes, para encontrar el que existe o no existe\n",
    "            if cliente['email'] == email:\n",
    "                print(f\"El cliente con email {email} ya existe\") # si existe se ejecuta esta acción, sino existe se ejecuta la de abajo\n",
    "                return\n",
    "            \n",
    "        incremento_id = (len(clientes_actuales) + 1) # 1,2,3,4... reviso el total de clientes con su id para que cada vez que ingrese uno nuevo le de su id seguiendo el número asignado\n",
    "        id_cliente = \"Cliente\" + str(incremento_id)  #Cliente1, Cliente2.. Aqui incremento el valor pero en string, ya es un número y no se puedn sumar tipos distintos\n",
    "         \n",
    "        nuevo_cliente = {'nombre':nombre, 'email':email, 'compras': []} # nuevo cliente con estos valores\n",
    "        self.clientes[id_cliente] = nuevo_cliente # aqui agrego el nuevo cliente, ya que no existia key es id y value es los datos\n",
    "        \n",
    "        print(f\"Cliente: {id_cliente} de nombre {nombre} agregado con éxito.\") # aqui muestra la información del nuevo cliente.\n",
    "    \n",
    "    \n",
    "    # Metodo 11\n",
    "    def ver_clientes(self):  \n",
    "        \n",
    "        for cliente in self.clientes.values(): # Recorro cada cliente que este en la bbdd = id, nombre, mail, etc\n",
    "            print(f\"Los clientes son: {cliente['nombre']} con email: {cliente['email']}\") # pinto todos y cada uno con nombre y email que es lo que pide\n",
    "    \n",
    "         \n",
    "    # Medoto 12 \n",
    "    def registrar_compra(self, id_cliente, carrito): # no es nombre_cliente si no id_cliente, para mi, poder entenderlo mejor\n",
    "\n",
    "        cliente = self.clientes.get(id_cliente) # el get es para buscar un valor de la key = id-cliente=nombre\n",
    "\n",
    "        if cliente: # si existe el cliente entra en el if\n",
    "            total_compra = 0 # inicializo\n",
    "            for detalle_carrito_producto in carrito.values(): # recorre los valores/detalles de cada prodcunto = valores del producto(precio/cantidad)\n",
    "                total_compra += detalle_carrito_producto['precio'] * detalle_carrito_producto['cantidad']\n",
    "             \n",
    "            # en el valor compra= historial, agrego la compra con su total\n",
    "            cliente['compras'].append({'carrito': carrito, 'total_compra':total_compra})\n",
    "            self.ventas_totales += total_compra # guardo el total de las compras en las ventas totales de la tiendaonline\n",
    "            print('Registro de compra existoso')\n",
    "            \n",
    "        else:\n",
    "            print('No se puede realizar la acción por que no esta registrado')  # si no existe el cliente, va directo al else\n",
    "            \n",
    "    \n",
    "    # Metodo 13 \n",
    "    def ver_compras_cliente(self, id_cliente): # me es más facil leerlo por id-cliente\n",
    "        \n",
    "        cliente = self.clientes.get(id_cliente) # busco extraer con el metodo get el cliente es especifico = key\n",
    "\n",
    "        if cliente:\n",
    "            historial = cliente['compras'] #  Guardo el listado de compra \n",
    "            for compra in historial: # recorro cada compra del cliente y la pinto.\n",
    "                print(f\"Total: {compra}\")\n",
    "                \n",
    "        else: # se ejecuta si el cliente no existe con ese id-nombre\n",
    "            print(\"El cliente no existe.\")         \n",
    "            \n",
    "            \n",
    "    # Metodo 14\n",
    "    def calcular_ventas_totales(self): \n",
    "        return f'Las ventas totales son de: {self.ventas_totales}€' # pinto todo lo que tiene guardada la función/variable de ventas_totales\n",
    "        "
   ]
  },
  {
   "cell_type": "code",
   "execution_count": 98,
   "metadata": {},
   "outputs": [],
   "source": [
    "tienda = TiendaOnline()\n",
    "\n",
    "\n",
    "# Punto 1\n",
    "\n",
    "tienda.agregar_producto('Camisa', 20, 50)\n",
    "tienda.agregar_producto('camisa', 20, 50)\n",
    "tienda.agregar_producto('Pantalon', 30, 30)\n",
    "tienda.agregar_producto('pantalon', 30, 30)\n",
    "tienda.agregar_producto('Zapatos', 50, 40)\n",
    "tienda.agregar_producto('zapatos', 66, 87)\n"
   ]
  },
  {
   "cell_type": "code",
   "execution_count": 35,
   "metadata": {},
   "outputs": [
    {
     "name": "stdout",
     "output_type": "stream",
     "text": [
      "Este es el inventario: {'nombre': 'Camisa', 'precio': 20, 'cantidad': 50}\n",
      "Este es el inventario: {'nombre': 'camisa', 'precio': 20, 'cantidad': 50}\n",
      "Este es el inventario: {'nombre': 'Pantalon', 'precio': 30, 'cantidad': 30}\n",
      "Este es el inventario: {'nombre': 'pantalon', 'precio': 30, 'cantidad': 30}\n",
      "Este es el inventario: {'nombre': 'Zapatos', 'precio': 50, 'cantidad': 40}\n",
      "Este es el inventario: {'nombre': 'zapatos', 'precio': 66, 'cantidad': 87}\n"
     ]
    }
   ],
   "source": [
    "\n",
    "# Punto 2\n",
    "tienda.ver_inventario()\n"
   ]
  },
  {
   "cell_type": "code",
   "execution_count": 43,
   "metadata": {},
   "outputs": [
    {
     "name": "stdout",
     "output_type": "stream",
     "text": [
      "Aqui el producto {'nombre': 'Camisa', 'precio': 20, 'cantidad': 50}\n"
     ]
    }
   ],
   "source": [
    "\n",
    "# Punto 3\n",
    "tienda.buscar_producto('Camisa')\n"
   ]
  },
  {
   "cell_type": "code",
   "execution_count": 68,
   "metadata": {},
   "outputs": [
    {
     "name": "stdout",
     "output_type": "stream",
     "text": [
      "Actualizado el stock con: {'nombre': 'Camisa', 'precio': 20, 'cantidad': 170}\n",
      "Actualizado el stock con: {'nombre': 'Camisa', 'precio': 20, 'cantidad': 160}\n"
     ]
    }
   ],
   "source": [
    "\n",
    "# Punto 4\n",
    "tienda.actualizar_stock('Camisa', 65)\n",
    "tienda.actualizar_stock('Camisa', -10)\n",
    "\n"
   ]
  },
  {
   "cell_type": "code",
   "execution_count": 38,
   "metadata": {},
   "outputs": [
    {
     "name": "stdout",
     "output_type": "stream",
     "text": [
      "Este es el inventario: {'nombre': 'Camisa', 'precio': 20, 'cantidad': 105}\n",
      "Este es el inventario: {'nombre': 'camisa', 'precio': 20, 'cantidad': 50}\n",
      "Este es el inventario: {'nombre': 'Pantalon', 'precio': 30, 'cantidad': 30}\n",
      "Este es el inventario: {'nombre': 'pantalon', 'precio': 30, 'cantidad': 30}\n",
      "Este es el inventario: {'nombre': 'Zapatos', 'precio': 50, 'cantidad': 40}\n",
      "Este es el inventario: {'nombre': 'zapatos', 'precio': 66, 'cantidad': 87}\n",
      "El producto Pantalon ha sido eliminado del inventario.\n",
      "Este es el inventario: {'nombre': 'Camisa', 'precio': 20, 'cantidad': 105}\n",
      "Este es el inventario: {'nombre': 'camisa', 'precio': 20, 'cantidad': 50}\n",
      "Este es el inventario: {'nombre': 'pantalon', 'precio': 30, 'cantidad': 30}\n",
      "Este es el inventario: {'nombre': 'Zapatos', 'precio': 50, 'cantidad': 40}\n",
      "Este es el inventario: {'nombre': 'zapatos', 'precio': 66, 'cantidad': 87}\n"
     ]
    }
   ],
   "source": [
    "\n",
    "# Punto 5\n",
    "tienda.ver_inventario()\n",
    "tienda.eliminar_producto('Pantalon')\n",
    "tienda.ver_inventario()\n"
   ]
  },
  {
   "cell_type": "code",
   "execution_count": 39,
   "metadata": {},
   "outputs": [
    {
     "data": {
      "text/plain": [
       "'Total inventario: 11742'"
      ]
     },
     "execution_count": 39,
     "metadata": {},
     "output_type": "execute_result"
    }
   ],
   "source": [
    "\n",
    "# Punto 6\n",
    "tienda.calcular_valor_inventario()\n"
   ]
  },
  {
   "cell_type": "code",
   "execution_count": 47,
   "metadata": {},
   "outputs": [
    {
     "name": "stdout",
     "output_type": "stream",
     "text": [
      "Lista regex: [{'nombre': 'Zapatos', 'precio': 50, 'cantidad': 40}]\n"
     ]
    }
   ],
   "source": [
    "\n",
    "# Punto 7 \n",
    "tienda.buscar_producto_regex('Z\\w+') \n"
   ]
  },
  {
   "cell_type": "code",
   "execution_count": 71,
   "metadata": {},
   "outputs": [
    {
     "name": "stdout",
     "output_type": "stream",
     "text": [
      "Este es el inventario: [{'nombre': 'Camisa', 'precio': 20, 'cantidad': 50}, {'nombre': 'camisa', 'precio': 20, 'cantidad': 50}, {'nombre': 'Pantalon', 'precio': 30, 'cantidad': 30}, {'nombre': 'pantalon', 'precio': 30, 'cantidad': 30}, {'nombre': 'Zapatos', 'precio': 50, 'cantidad': 40}, {'nombre': 'zapatos', 'precio': 66, 'cantidad': 87}]\n"
     ]
    },
    {
     "name": "stdout",
     "output_type": "stream",
     "text": [
      "Llevas en el carro [{'nombre': 'zapatos', 'precio': 66, 'cantidad': 4}]\n",
      "El producto camis no esta en el inventario\n",
      "Has comprado: [{'nombre': 'zapatos', 'precio': 66, 'cantidad': 4}], y tu compra total es de: 264€\n"
     ]
    }
   ],
   "source": [
    "\n",
    "# Punto 8\n",
    "tienda.realizar_compra()\n"
   ]
  },
  {
   "cell_type": "code",
   "execution_count": 20,
   "metadata": {},
   "outputs": [
    {
     "name": "stdout",
     "output_type": "stream",
     "text": [
      "Su pago fue exitoso, su cambio: 0.0€\n"
     ]
    }
   ],
   "source": [
    "\n",
    "# Punto 9 \n",
    "tienda.procesar_pago()\n"
   ]
  },
  {
   "cell_type": "code",
   "execution_count": 90,
   "metadata": {},
   "outputs": [
    {
     "name": "stdout",
     "output_type": "stream",
     "text": [
      "El cliente con email mucho@codigo2.pull ya existe\n",
      "El cliente con email mucho@codigo2.pull ya existe\n",
      "El cliente con email program@codigo.help ya existe\n"
     ]
    }
   ],
   "source": [
    "\n",
    "# Punto 10 \n",
    "tienda.agregar_cliente('pepe', 'mucho@codigo2.pull')\n",
    "tienda.agregar_cliente('pepe', 'mucho@codigo2.pull')\n",
    "tienda.agregar_cliente('toni', 'program@codigo.help')\n"
   ]
  },
  {
   "cell_type": "code",
   "execution_count": 99,
   "metadata": {},
   "outputs": [
    {
     "name": "stdout",
     "output_type": "stream",
     "text": [
      "Cliente: Cliente1 de nombre monica agregado con éxito.\n",
      "Cliente: Cliente2 de nombre justi agregado con éxito.\n",
      "Cliente: Cliente3 de nombre ariel agregado con éxito.\n",
      "Cliente: Cliente4 de nombre carmen agregado con éxito.\n",
      "Los clientes son: monica con email: locura@codigo.push\n",
      "Los clientes son: justi con email: mucho@codigo.pull\n",
      "Los clientes son: ariel con email: patines@park.ind\n",
      "Los clientes son: carmen con email: abuela@bendicion.com\n"
     ]
    }
   ],
   "source": [
    "\n",
    "# Punto 11\n",
    "tienda.agregar_cliente('monica','locura@codigo.push')\n",
    "tienda.agregar_cliente('justi','mucho@codigo.pull')\n",
    "tienda.agregar_cliente('ariel', 'patines@park.ind')\n",
    "tienda.agregar_cliente('carmen', 'abuela@bendicion.com')\n",
    "tienda.ver_clientes()\n"
   ]
  },
  {
   "cell_type": "code",
   "execution_count": 100,
   "metadata": {},
   "outputs": [
    {
     "name": "stdout",
     "output_type": "stream",
     "text": [
      "Registro de compra existoso\n",
      "Registro de compra existoso\n",
      "Registro de compra existoso\n",
      "Registro de compra existoso\n"
     ]
    }
   ],
   "source": [
    "\n",
    "# Punto 12\n",
    "carrito_cliente1 = { \n",
    "                    \"Camisa\": { \"precio\": 10, \"cantidad\": 3 }, \n",
    "                    \"Zapato\": { \"precio\": 25, \"cantidad\": 1 },\n",
    "                   }\n",
    "\n",
    "carrito_cliente2 = { \"Zapato\": { \"precio\": 25, \"cantidad\": 1 }}\n",
    "carrito_cliente3 = { \"Pantalon\": { \"precio\": 30, \"cantidad\": 2 }}\n",
    "carrito_cliente4 = { \"Pantalon\": { \"precio\": 30, \"cantidad\": 2 }}\n",
    "\n",
    "tienda.registrar_compra(\"Cliente1\", carrito_cliente1)\n",
    "tienda.registrar_compra(\"Cliente2\", carrito_cliente2)\n",
    "tienda.registrar_compra(\"Cliente3\", carrito_cliente3)\n",
    "tienda.registrar_compra(\"Cliente1\", carrito_cliente3)\n",
    "\n"
   ]
  },
  {
   "cell_type": "code",
   "execution_count": 101,
   "metadata": {},
   "outputs": [
    {
     "name": "stdout",
     "output_type": "stream",
     "text": [
      "Total: {'carrito': {'Pantalon': {'precio': 30, 'cantidad': 2}}, 'total_compra': 60}\n"
     ]
    }
   ],
   "source": [
    "\n",
    "# Punto 13\n",
    "tienda.ver_compras_cliente(\"Cliente3\")\n"
   ]
  },
  {
   "cell_type": "code",
   "execution_count": 94,
   "metadata": {},
   "outputs": [
    {
     "data": {
      "text/plain": [
       "'Las ventas totales son de: 400€'"
      ]
     },
     "execution_count": 94,
     "metadata": {},
     "output_type": "execute_result"
    }
   ],
   "source": [
    "\n",
    "# Punto 14\n",
    "tienda.calcular_ventas_totales()\n"
   ]
  }
 ],
 "metadata": {
  "kernelspec": {
   "display_name": "Python 3",
   "language": "python",
   "name": "python3"
  },
  "language_info": {
   "codemirror_mode": {
    "name": "ipython",
    "version": 3
   },
   "file_extension": ".py",
   "mimetype": "text/x-python",
   "name": "python",
   "nbconvert_exporter": "python",
   "pygments_lexer": "ipython3",
   "version": "3.11.5"
  }
 },
 "nbformat": 4,
 "nbformat_minor": 2
}
